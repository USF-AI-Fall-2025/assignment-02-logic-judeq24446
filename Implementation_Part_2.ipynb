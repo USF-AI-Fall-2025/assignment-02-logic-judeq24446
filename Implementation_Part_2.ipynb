{
 "cells": [
  {
   "cell_type": "markdown",
   "id": "549c6bd8-08a3-43ab-8418-8ac32ef1130f",
   "metadata": {},
   "source": [
    "1. Gender is encoded as either 0 or 1. Are women encoded as 0 or as 1? (Support your answer.)"
   ]
  },
  {
   "cell_type": "code",
   "execution_count": null,
   "id": "ca475598-db17-4bf1-acbf-838748f49154",
   "metadata": {},
   "outputs": [],
   "source": []
  }
 ],
 "metadata": {
  "kernelspec": {
   "display_name": "Python 3 (ipykernel)",
   "language": "python",
   "name": "python3"
  },
  "language_info": {
   "codemirror_mode": {
    "name": "ipython",
    "version": 3
   },
   "file_extension": ".py",
   "mimetype": "text/x-python",
   "name": "python",
   "nbconvert_exporter": "python",
   "pygments_lexer": "ipython3",
   "version": "3.13.7"
  }
 },
 "nbformat": 4,
 "nbformat_minor": 5
}
